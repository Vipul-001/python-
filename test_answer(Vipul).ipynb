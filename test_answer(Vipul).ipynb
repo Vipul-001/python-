{
 "cells": [
  {
   "cell_type": "code",
   "execution_count": 45,
   "id": "8963e71b-ecd7-45de-a752-afa337d7c930",
   "metadata": {},
   "outputs": [],
   "source": [
    "# Ans.1\n",
    "class Person:\n",
    "    def __init__(self,name,age):\n",
    "        self.name=name\n",
    "        self.age=age\n",
    "\n",
    "    def introduce(self):\n",
    "        print(f\"The name is {self.name} and age is {self.age} \")"
   ]
  },
  {
   "cell_type": "code",
   "execution_count": 47,
   "id": "bad0d9ad-391d-474a-b3eb-43f3e0e52ef1",
   "metadata": {},
   "outputs": [
    {
     "name": "stdout",
     "output_type": "stream",
     "text": [
      "The name is vipul and age is 17 \n"
     ]
    }
   ],
   "source": [
    "person1=Person(\"vipul\",\"17\")\n",
    "person1.introduce()"
   ]
  },
  {
   "cell_type": "code",
   "execution_count": 49,
   "id": "0b780f80-5180-47c8-87f4-9cf0ed384ecb",
   "metadata": {},
   "outputs": [],
   "source": [
    "# Ans 2\n",
    "class Car:\n",
    "    def __init__(self,brand,model):\n",
    "        self.brand = brand\n",
    "        self.model = model\n",
    "\n",
    "    def display_info(self):\n",
    "        print(f\"The {self.brand} {self.model} is ready for Vipul Yadav\")"
   ]
  },
  {
   "cell_type": "code",
   "execution_count": 51,
   "id": "eb86856b-3c9a-40e7-bf23-6a9bccc43e54",
   "metadata": {},
   "outputs": [
    {
     "name": "stdout",
     "output_type": "stream",
     "text": [
      "The Hyundai Verna is ready for Vipul Yadav\n"
     ]
    }
   ],
   "source": [
    "car1 = Car(\"Hyundai\",\"Verna\")\n",
    "car1.display_info()"
   ]
  },
  {
   "cell_type": "code",
   "execution_count": 53,
   "id": "b49adc6d-765e-4a6d-890b-3652f34479fd",
   "metadata": {},
   "outputs": [],
   "source": [
    "# Ans 3\n",
    "class BankAccount:\n",
    "    def __init__(self,account_number,name,balance):\n",
    "        self.account_number = account_number\n",
    "        self.name = name\n",
    "        self.balance = balance\n",
    "\n",
    "    def display_balance(self):\n",
    "        print(f\"The Account({self.account_number}) of {self.name} having balance {self.balance} \")"
   ]
  },
  {
   "cell_type": "code",
   "execution_count": 55,
   "id": "b07faa68-7c18-4e16-872b-2ada7fbee73d",
   "metadata": {},
   "outputs": [
    {
     "name": "stdout",
     "output_type": "stream",
     "text": [
      "The Account(00xxxxxx00) of Mr. Vipul having balance $78000 \n"
     ]
    }
   ],
   "source": [
    "account_holder1 = BankAccount(\"00xxxxxx00\",\"Mr. Vipul\",\"$78000\")\n",
    "account_holder1.display_balance()"
   ]
  },
  {
   "cell_type": "code",
   "execution_count": 57,
   "id": "535d8a29-bd9b-4366-a23e-60a14c013749",
   "metadata": {},
   "outputs": [],
   "source": [
    "# Ans 4\n",
    "class MobilePhone:\n",
    "    def __init__(self,brand,model):\n",
    "        self.brand = brand\n",
    "        self.model = model\n",
    "\n",
    "    def make_call(self):\n",
    "        print(f\"{self.brand} {self.model} is just launched in market\")\n"
   ]
  },
  {
   "cell_type": "code",
   "execution_count": 59,
   "id": "5e18447f-e81c-477d-ae45-237ccfee8314",
   "metadata": {},
   "outputs": [
    {
     "name": "stdout",
     "output_type": "stream",
     "text": [
      "Iphone 16pro max is just launched in market\n"
     ]
    }
   ],
   "source": [
    "mobile1 = MobilePhone(\"Iphone\",\"16pro max\")\n",
    "mobile1.make_call()"
   ]
  },
  {
   "cell_type": "code",
   "execution_count": 61,
   "id": "42beb36f-cfb4-472b-a9a4-ddb887daa72c",
   "metadata": {},
   "outputs": [],
   "source": [
    "# Ans 5\n",
    "class Book:\n",
    "    def __init__(self,title,author):\n",
    "        self.title = title\n",
    "        self.author = author\n",
    "\n",
    "    def display_info(self):\n",
    "        print(f\"{self.title} is written by {self.author}\")"
   ]
  },
  {
   "cell_type": "code",
   "execution_count": 63,
   "id": "b38d401d-875f-40fc-b339-8ae2eabcbfd1",
   "metadata": {},
   "outputs": [
    {
     "name": "stdout",
     "output_type": "stream",
     "text": [
      "The Merchant of Venice is written by William Shakespeare\n"
     ]
    }
   ],
   "source": [
    "poem1 = Book(\"The Merchant of Venice\",\"William Shakespeare\")\n",
    "poem1.display_info()"
   ]
  },
  {
   "cell_type": "code",
   "execution_count": 65,
   "id": "47103add-e1fb-42e0-bbde-2d2a4dab14d5",
   "metadata": {},
   "outputs": [],
   "source": [
    "# Ans 6\n",
    "class Vehicles:\n",
    "    def __init__(self,name,model,year):\n",
    "        self.name = name\n",
    "        self.model = model\n",
    "        self.year = year\n",
    "\n",
    "    def start_engine(self):\n",
    "        pass\n",
    "\n",
    "class Car(Vehicles):\n",
    "    def __init__(self,name,model,year):\n",
    "        super().__init__(name,model,year)\n",
    "\n",
    "    def start_engine(self):\n",
    "        print(f\"{self.name} , {self.model}, of year {self.year}, is for sale\") \n",
    "\n",
    "class Bike(Vehicles):\n",
    "    def __init__(self,name,model,year):\n",
    "        super().__init__(name,model,year)\n",
    "\n",
    "    def start_engine(self):\n",
    "        print(f\"{self.name} , {self.model}, of year {self.year}, is for sale\") \n",
    "    "
   ]
  },
  {
   "cell_type": "code",
   "execution_count": 67,
   "id": "eb124d18-384e-4e55-b651-50e8ff88abf2",
   "metadata": {},
   "outputs": [
    {
     "name": "stdout",
     "output_type": "stream",
     "text": [
      "Mercedes benz , s-class, of year  2020, is for sale\n",
      "splendor , plus, of year 2023, is for sale\n"
     ]
    }
   ],
   "source": [
    "car1 = Car(\"Mercedes benz\",\"s-class\",\" 2020\")\n",
    "car1.start_engine() \n",
    "bike1 = Bike(\"splendor\",\"plus\",2023)\n",
    "bike1.start_engine()"
   ]
  },
  {
   "cell_type": "code",
   "execution_count": 69,
   "id": "7e31f569-2e9a-46cb-ae1b-1d397e99d322",
   "metadata": {},
   "outputs": [],
   "source": [
    "# Ans 7\n",
    "class Animal:\n",
    "    def eat(self):\n",
    "        return \"Eating.\"\n",
    "\n",
    "    def sleep(self):\n",
    "        return \"Sleeping..\"\n",
    "\n",
    "class Dog(Animal):\n",
    "    def bark(self):\n",
    "        return \"dog barks\"\n",
    "\n",
    "    def eat(self):\n",
    "         return \"The dog is eating food.\"\n",
    "\n",
    "class Cat(Animal):\n",
    "    def meows(self):\n",
    "        return \"the cat meows.\"\n",
    "\n",
    "    def eat(self):\n",
    "        return \"The cat is eating rats\"\n"
   ]
  },
  {
   "cell_type": "code",
   "execution_count": 71,
   "id": "3989c842-2ba4-4a2f-ad95-788caa42e0ab",
   "metadata": {},
   "outputs": [
    {
     "name": "stdout",
     "output_type": "stream",
     "text": [
      "The dog is eating food.\n",
      "dog barks\n",
      "Sleeping..\n",
      "The cat is eating rats\n",
      "the cat meows.\n",
      "Sleeping..\n"
     ]
    }
   ],
   "source": [
    "dog = Dog()\n",
    "cat = Cat()\n",
    "print(dog.eat())\n",
    "print(dog.bark())\n",
    "print(dog.sleep())\n",
    "print(cat.eat())\n",
    "print(cat.meows())\n",
    "print(cat.sleep())"
   ]
  },
  {
   "cell_type": "code",
   "execution_count": 73,
   "id": "2285e001-a953-412c-a3f2-fa941223e35a",
   "metadata": {},
   "outputs": [],
   "source": [
    "# Ans 8\n",
    "class LibraryItem:\n",
    "    def __init__(self,title,author,publication_year):\n",
    "        self.title = title\n",
    "        self.author = author\n",
    "        self.publication_year = publication_year\n",
    "\n",
    "    def Checkout(self):\n",
    "        pass\n",
    "    def return_item(self):\n",
    "        pass\n",
    "\n",
    "class Book(LibraryItem):\n",
    "    def __init__(self,title,author,publication_year):\n",
    "        super().__init__(title,author,publication_year)\n",
    "\n",
    "    def Checkout(self):\n",
    "        print(f\"The {self.title} was written by {self.author} in {self.publication_year}\")\n",
    "\n",
    "class Magazine(LibraryItem):\n",
    "    def __init__(self,title,author,publication_year):\n",
    "        super().__init__(title,author,publication_year)\n",
    "\n",
    "    def return_item(self):\n",
    "        print(f\"The {self.title} is published by {self.author} in {self.publication_year}\")"
   ]
  },
  {
   "cell_type": "code",
   "execution_count": 75,
   "id": "8f3ae801-1c7a-4683-b931-0d517e85bf43",
   "metadata": {},
   "outputs": [
    {
     "name": "stdout",
     "output_type": "stream",
     "text": [
      "The Rich Dad Poor Dad was written by Vipul Yadav in 1993\n",
      "The Cinema Express is published by Abhi in 2001\n"
     ]
    }
   ],
   "source": [
    "book1 = Book(\"Rich Dad Poor Dad\",\"Vipul Yadav\",\"1993\")\n",
    "book1.Checkout()\n",
    "magazine1 = Magazine(\"Cinema Express\",\"Abhi\",\"2001\")\n",
    "magazine1.return_item()"
   ]
  },
  {
   "cell_type": "code",
   "execution_count": 77,
   "id": "f0cf1e66-04ea-4701-b787-72a626307b7d",
   "metadata": {},
   "outputs": [],
   "source": [
    "# Ans 9\n",
    "class Employee:\n",
    "    def __init__(self,name,salary,department):\n",
    "        self.name = name\n",
    "        self.salary = salary\n",
    "        self.department = department\n",
    "\n",
    "    def assign_task(self):\n",
    "        pass\n",
    "    def attend_meeting(self):\n",
    "        pass\n",
    "\n",
    "class Manager(Employee):\n",
    "    def __init__(self,name,salary,department):\n",
    "        super().__init__(name,salary,department)\n",
    "\n",
    "    def assign_task(self):\n",
    "        print(f\"The salary of Manager ,{self.name},of {self.department} department is {self.salary}\")\n",
    "\n",
    "class Staff(Employee):\n",
    "    def __init__(self,name,salary,department):\n",
    "        super().__init__(name,salary,department)\n",
    "\n",
    "    def attend_meeting(self):\n",
    "        print(f\"The salary of staff of {self.department} is more than {self.salary}\")\n",
    "        "
   ]
  },
  {
   "cell_type": "code",
   "execution_count": 79,
   "id": "de706613-af22-4de6-a12c-8919aabc19f2",
   "metadata": {},
   "outputs": [
    {
     "name": "stdout",
     "output_type": "stream",
     "text": [
      "The salary of Manager ,SK Yadav,of 88000 department is Finance\n",
      "The salary of staff of production department is more than 50000\n"
     ]
    }
   ],
   "source": [
    "manager1 = Manager(\"SK Yadav\",\"Finance\",\"88000\")\n",
    "manager1.assign_task()\n",
    "staff1 = Staff(\"Ram\",\"50000\",\"production department\")\n",
    "staff1.attend_meeting()"
   ]
  },
  {
   "cell_type": "code",
   "execution_count": 81,
   "id": "fff6dccb-bf0b-4ab4-b617-c9c7a946bef3",
   "metadata": {},
   "outputs": [],
   "source": [
    "# Ans10\n",
    "class BankAccount:\n",
    "    def __init__(self,account_number,balance):\n",
    "        self.account_number = account_number\n",
    "        self.balance = balance\n",
    "\n",
    "    def Withdraw(self):\n",
    "        pass\n",
    "\n",
    "    def Deposit(self):\n",
    "        pass\n",
    "\n",
    "class CheckingAccount(BankAccount):\n",
    "    def __init__(self,account_number,balance):\n",
    "        super().__init__(account_number,balance)\n",
    "\n",
    "    def Withdraw(self):\n",
    "        print(f\"{self.account_number} has balance {self.balance} after withdrawal.\")\n",
    "\n",
    "    def Deposit(self):\n",
    "        print(f\"{self.account_number} has balance {self.balance} after deposit.\")\n",
    "\n",
    "class SavingAccount(BankAccount):\n",
    "    def __init__(self,account_number,balance):\n",
    "        super().__init__(account_number,balance)\n",
    "\n",
    "    def Withdraw(self):\n",
    "        print(f\"{self.account_number} has balance {self.balance} after withdrawal.\")\n",
    "\n",
    "    def Deposit(self):\n",
    "        print(f\"{self.account_number} has balance {self.balance} after deposit.\")"
   ]
  },
  {
   "cell_type": "code",
   "execution_count": 83,
   "id": "766380a6-8cfd-4145-934d-c81ebe2fbda3",
   "metadata": {},
   "outputs": [
    {
     "name": "stdout",
     "output_type": "stream",
     "text": [
      "00000000 has balance Rs.15,700 after withdrawal.\n",
      "6421356 has balance Rs.28,500 after deposit.\n"
     ]
    }
   ],
   "source": [
    "person1 = CheckingAccount(\"00000000\",\"Rs.15,700\")\n",
    "person1.Withdraw()\n",
    "person2 = SavingAccount(\"6421356\",\"Rs.28,500\")\n",
    "person2.Deposit()"
   ]
  },
  {
   "cell_type": "code",
   "execution_count": 85,
   "id": "0aaf62cf-1d16-4a40-ad84-c22bb94ea054",
   "metadata": {},
   "outputs": [],
   "source": [
    "# Ans 11\n",
    "class Person:\n",
    "    def __init__(self,name,age,address):\n",
    "        self.name = name\n",
    "        self.age = age\n",
    "        self.address = address\n",
    "\n",
    "    def take_exam(self):\n",
    "        pass\n",
    "    def teach_subject(self):\n",
    "        pass\n",
    "\n",
    "class Student(Person):\n",
    "    def __init__(self,name,age,address):\n",
    "        super().__init__(name,age,address)\n",
    "\n",
    "    def take_exam(self):\n",
    "        print(f\"name:{self.name},age:{self.age},address:{self.address} is applying for exam.\")\n",
    "\n",
    "class Teacher(Person):\n",
    "    def __init__(self,name,age,address):\n",
    "        super().__init__(name,age,address)\n",
    "\n",
    "    def teach_subject(self):\n",
    "        print(f\"name:{self.name},age:{self.age},address:{self.address}, is a data science teacher.\")"
   ]
  },
  {
   "cell_type": "code",
   "execution_count": 87,
   "id": "cdd62a02-9b38-4cb4-af78-a14c4080564e",
   "metadata": {},
   "outputs": [
    {
     "name": "stdout",
     "output_type": "stream",
     "text": [
      "name:Vipul,age:17,address:rewari is applying for exam.\n",
      "name:Mahipal Singh,age:25,address:Beawar, is a data science teacher.\n"
     ]
    }
   ],
   "source": [
    "student1 = Student(\"Vipul\",\"17\",\"rewari\")\n",
    "student1.take_exam()\n",
    "teacher1 = Teacher(\"Mahipal Singh\",\"25\",\"Beawar\")\n",
    "teacher1.teach_subject()"
   ]
  },
  {
   "cell_type": "code",
   "execution_count": null,
   "id": "cc1e444b-215d-44eb-8db9-dcbf52b37d91",
   "metadata": {},
   "outputs": [],
   "source": []
  }
 ],
 "metadata": {
  "kernelspec": {
   "display_name": "Python 3 (ipykernel)",
   "language": "python",
   "name": "python3"
  },
  "language_info": {
   "codemirror_mode": {
    "name": "ipython",
    "version": 3
   },
   "file_extension": ".py",
   "mimetype": "text/x-python",
   "name": "python",
   "nbconvert_exporter": "python",
   "pygments_lexer": "ipython3",
   "version": "3.12.4"
  }
 },
 "nbformat": 4,
 "nbformat_minor": 5
}
